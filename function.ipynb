{
  "nbformat": 4,
  "nbformat_minor": 0,
  "metadata": {
    "colab": {
      "provenance": [],
      "authorship_tag": "ABX9TyPgLGnqyNCrSJlIR+Q7KIBb",
      "include_colab_link": true
    },
    "kernelspec": {
      "name": "python3",
      "display_name": "Python 3"
    },
    "language_info": {
      "name": "python"
    }
  },
  "cells": [
    {
      "cell_type": "markdown",
      "metadata": {
        "id": "view-in-github",
        "colab_type": "text"
      },
      "source": [
        "<a href=\"https://colab.research.google.com/github/Sandhiya-st/c/blob/main/function.ipynb\" target=\"_parent\"><img src=\"https://colab.research.google.com/assets/colab-badge.svg\" alt=\"Open In Colab\"/></a>"
      ]
    },
    {
      "cell_type": "code",
      "execution_count": 1,
      "metadata": {
        "colab": {
          "base_uri": "https://localhost:8080/"
        },
        "id": "l1w1MY_jtij9",
        "outputId": "d0df21d7-f82d-46c5-874f-79f223cf6f48"
      },
      "outputs": [
        {
          "output_type": "stream",
          "name": "stdout",
          "text": [
            "Simple Calculator\n",
            "1. Addition\n",
            "2. Subtraction\n",
            "3. Multiplication\n",
            "4. Division\n",
            "Enter choice (1/2/3/4): 3\n",
            "Enter first number: 55\n",
            "Enter second number: 66\n",
            "Result: 3630.0\n"
          ]
        }
      ],
      "source": [
        "# Function for addition\n",
        "def add(a, b):\n",
        "    return a + b\n",
        "\n",
        "# Function for subtraction\n",
        "def subtract(a, b):\n",
        "    return a - b\n",
        "\n",
        "# Function for multiplication\n",
        "def multiply(a, b):\n",
        "    return a * b\n",
        "\n",
        "# Function for division\n",
        "def divide(a, b):\n",
        "    if b != 0:\n",
        "        return a / b\n",
        "    else:\n",
        "        return \"Error! Division by zero.\"\n",
        "\n",
        "# Main program\n",
        "print(\"Simple Calculator\")\n",
        "print(\"1. Addition\")\n",
        "print(\"2. Subtraction\")\n",
        "print(\"3. Multiplication\")\n",
        "print(\"4. Division\")\n",
        "\n",
        "choice = input(\"Enter choice (1/2/3/4): \")\n",
        "\n",
        "num1 = float(input(\"Enter first number: \"))\n",
        "num2 = float(input(\"Enter second number: \"))\n",
        "\n",
        "if choice == '1':\n",
        "    print(\"Result:\", add(num1, num2))\n",
        "elif choice == '2':\n",
        "    print(\"Result:\", subtract(num1, num2))\n",
        "elif choice == '3':\n",
        "    print(\"Result:\", multiply(num1, num2))\n",
        "elif choice == '4':\n",
        "    print(\"Result:\", divide(num1, num2))\n",
        "else:\n",
        "    print(\"Invalid choice!\")\n"
      ]
    }
  ]
}