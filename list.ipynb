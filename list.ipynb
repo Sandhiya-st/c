{
  "nbformat": 4,
  "nbformat_minor": 0,
  "metadata": {
    "colab": {
      "provenance": [],
      "authorship_tag": "ABX9TyNzPV7Hu3bDEsuMUMsGdB0u",
      "include_colab_link": true
    },
    "kernelspec": {
      "name": "python3",
      "display_name": "Python 3"
    },
    "language_info": {
      "name": "python"
    }
  },
  "cells": [
    {
      "cell_type": "markdown",
      "metadata": {
        "id": "view-in-github",
        "colab_type": "text"
      },
      "source": [
        "<a href=\"https://colab.research.google.com/github/Sandhiya-st/c/blob/main/list.ipynb\" target=\"_parent\"><img src=\"https://colab.research.google.com/assets/colab-badge.svg\" alt=\"Open In Colab\"/></a>"
      ]
    },
    {
      "cell_type": "code",
      "execution_count": 4,
      "metadata": {
        "colab": {
          "base_uri": "https://localhost:8080/"
        },
        "id": "vo6V4MYefZOj",
        "outputId": "8d8998ac-56a1-47c8-a6b1-1291b8e26f9c"
      },
      "outputs": [
        {
          "output_type": "stream",
          "name": "stdout",
          "text": [
            "Today's Checklist:\n",
            "going to college\n",
            "Go for walk\n",
            "doing college work\n",
            "had a dinner\n",
            "\n",
            " Mark tasks as 'done' or 'not done':\n",
            "Did you complete 'going to college'? (yes/no): yes\n",
            "Did you complete 'Go for walk'? (yes/no): no\n",
            "Did you complete 'doing college work'? (yes/no): yes\n",
            "Did you complete 'had a dinner'? (yes/no): yes\n",
            "\n",
            "----- Daily Summary -----\n",
            "Completed Tasks:\n",
            "going to college\n",
            "doing college work\n",
            "had a dinner\n",
            "\n",
            " Incomplete Tasks:\n",
            "Go for walk\n"
          ]
        }
      ],
      "source": [
        "# Daily Task Organizer\n",
        "\n",
        "# Step 1: Start the day with a checklist\n",
        "checklist = [\n",
        "    \"going to college\",\n",
        "    \"Go for walk\",\n",
        "    \"doing college work\",\n",
        "    \"had a dinner\"\n",
        "]\n",
        "\n",
        "# Empty lists for organizing tasks\n",
        "completed_tasks = []\n",
        "incomplete_tasks = []\n",
        "\n",
        "print(\"Today's Checklist:\")\n",
        "for task in checklist:\n",
        "    print(task)\n",
        "\n",
        "# Step 2: At the end of the day, review tasks\n",
        "print(\"\\n Mark tasks as 'done' or 'not done':\")\n",
        "for task in checklist:\n",
        "    status = input(f\"Did you complete '{task}'? (yes/no): \").strip().lower()\n",
        "    if status in [\"yes\", \"done\"]:\n",
        "        completed_tasks.append(task)\n",
        "    else:\n",
        "        incomplete_tasks.append(task)\n",
        "\n",
        "# Step 3: Show summary\n",
        "print(\"\\n----- Daily Summary -----\")\n",
        "print(\"Completed Tasks:\")\n",
        "for task in completed_tasks:\n",
        "    print(task)\n",
        "\n",
        "print(\"\\n Incomplete Tasks:\")\n",
        "for task in incomplete_tasks:\n",
        "    print(task)\n"
      ]
    },
    {
      "cell_type": "code",
      "source": [],
      "metadata": {
        "id": "KIfZgH9BfawL"
      },
      "execution_count": null,
      "outputs": []
    }
  ]
}