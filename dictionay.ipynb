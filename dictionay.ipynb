{
  "nbformat": 4,
  "nbformat_minor": 0,
  "metadata": {
    "colab": {
      "provenance": [],
      "authorship_tag": "ABX9TyMVGlihSwfr+oxQ+u/NlLIl",
      "include_colab_link": true
    },
    "kernelspec": {
      "name": "python3",
      "display_name": "Python 3"
    },
    "language_info": {
      "name": "python"
    }
  },
  "cells": [
    {
      "cell_type": "markdown",
      "metadata": {
        "id": "view-in-github",
        "colab_type": "text"
      },
      "source": [
        "<a href=\"https://colab.research.google.com/github/Sandhiya-st/c/blob/main/dictionay.ipynb\" target=\"_parent\"><img src=\"https://colab.research.google.com/assets/colab-badge.svg\" alt=\"Open In Colab\"/></a>"
      ]
    },
    {
      "cell_type": "code",
      "execution_count": null,
      "metadata": {
        "colab": {
          "base_uri": "https://localhost:8080/"
        },
        "id": "LDGMHEI7_5gU",
        "outputId": "7520412c-748c-44f2-9219-89d2f89c71d2"
      },
      "outputs": [
        {
          "output_type": "stream",
          "name": "stdout",
          "text": [
            "Most repetitive element: 2 → 3 times\n"
          ]
        }
      ],
      "source": [
        "L1 = [1, 2, 2, 3, 2, 3, 4, 5]\n",
        "\n",
        "num_counter = {}\n",
        "for i in L1:\n",
        "    num_counter[i] = num_counter.get(i, 0) + 1\n",
        "\n",
        "most_repetitive = max(num_counter, key=num_counter.get)\n",
        "print(\"Most repetitive element:\", most_repetitive, \"→\", num_counter[most_repetitive], \"times\")\n"
      ]
    },
    {
      "cell_type": "code",
      "source": [],
      "metadata": {
        "id": "yayTmT2O_6pd"
      },
      "execution_count": null,
      "outputs": []
    }
  ]
}